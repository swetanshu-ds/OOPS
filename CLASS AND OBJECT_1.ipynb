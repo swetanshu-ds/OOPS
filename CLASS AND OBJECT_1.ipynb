{
 "cells": [
  {
   "cell_type": "code",
   "execution_count": null,
   "id": "a68863b8",
   "metadata": {},
   "outputs": [],
   "source": [
    "class car:\n",
    "    pass"
   ]
  },
  {
   "cell_type": "code",
   "execution_count": null,
   "id": "a7755153",
   "metadata": {},
   "outputs": [],
   "source": [
    "#  init function is alse known as--------------- constructor"
   ]
  },
  {
   "cell_type": "code",
   "execution_count": null,
   "id": "b9ed0765",
   "metadata": {},
   "outputs": [],
   "source": [
    "audiq7 = car()"
   ]
  },
  {
   "cell_type": "code",
   "execution_count": null,
   "id": "0242e06b",
   "metadata": {},
   "outputs": [],
   "source": [
    "audiq7.milage = 10\n",
    "audiq7.year = 2020\n",
    "audiq7.make = 345\n",
    "audiq7.model = \"fsdf\""
   ]
  },
  {
   "cell_type": "code",
   "execution_count": null,
   "id": "dfac50ec",
   "metadata": {},
   "outputs": [],
   "source": [
    "audiq7.milage"
   ]
  },
  {
   "cell_type": "code",
   "execution_count": null,
   "id": "cf645c15",
   "metadata": {},
   "outputs": [],
   "source": [
    "milage"
   ]
  },
  {
   "cell_type": "code",
   "execution_count": null,
   "id": "a19c3c76",
   "metadata": {},
   "outputs": [],
   "source": [
    "audiq7.year"
   ]
  },
  {
   "cell_type": "code",
   "execution_count": null,
   "id": "2e0ea643",
   "metadata": {},
   "outputs": [],
   "source": [
    "nano = car()"
   ]
  },
  {
   "cell_type": "code",
   "execution_count": null,
   "id": "d73a89f0",
   "metadata": {},
   "outputs": [],
   "source": [
    "nano.milage = 20\n",
    "nano.year = 2020\n",
    "nano.make = 234\n",
    "nano.model  = \"najc\"\n",
    "nano.engineno = 151651515"
   ]
  },
  {
   "cell_type": "code",
   "execution_count": null,
   "id": "0659d3ad",
   "metadata": {},
   "outputs": [],
   "source": [
    "print(nano.milage,audiq7.milage)"
   ]
  },
  {
   "cell_type": "code",
   "execution_count": null,
   "id": "7c4b993f",
   "metadata": {},
   "outputs": [],
   "source": [
    "class car:\n",
    "    def __init__(self, milage , year,make,model):\n",
    "        self.milage =milage\n",
    "        self.year = year\n",
    "        self.make = make\n",
    "        self.model = model"
   ]
  },
  {
   "cell_type": "code",
   "execution_count": null,
   "id": "2a5b61cf",
   "metadata": {},
   "outputs": [],
   "source": [
    "nano1 = car()"
   ]
  },
  {
   "cell_type": "code",
   "execution_count": null,
   "id": "244585f7",
   "metadata": {},
   "outputs": [],
   "source": [
    "nano1 =  car(20,2020,3651612,\"2472hwbhw\")\n",
    "audiq71 = car(10,2020,342,\"veec\")\n",
    "nano2 =  car(20,2020,3651612,\"2472hwbhw\")\n",
    "audiq72 = car(10,2020,342,\"veec\")\n",
    "nano3 =  car(20,2020,3651612,\"2472hwbhw\")\n",
    "audiq75 = car(10,2020,342,\"veec\")\n",
    "nano6 =  car(20,2020,3651612,\"2472hwbhw\")\n",
    "audiq7678 = car(10,2020,342,\"veec\")\n",
    "nano2 =  car(20,2020,3651612,\"2472hwbhw\")\n",
    "audiq754  = car(10,2020,342,\"veec\")\n",
    "nano67 =  car(20,2020,3651612,\"2472hwbhw\")\n",
    "audiq789 = car(10,2020,342,\"veec\")"
   ]
  },
  {
   "cell_type": "code",
   "execution_count": null,
   "id": "52ae3473",
   "metadata": {},
   "outputs": [],
   "source": [
    "nano1.milage"
   ]
  },
  {
   "cell_type": "code",
   "execution_count": null,
   "id": "25100fc3",
   "metadata": {},
   "outputs": [],
   "source": [
    "class car:\n",
    "    def __init__(a,milage , year,make,model):\n",
    "        a.milage =milage\n",
    "        a.year = year\n",
    "        a.make = make\n",
    "        a.model = model"
   ]
  },
  {
   "cell_type": "code",
   "execution_count": null,
   "id": "3b9d2019",
   "metadata": {},
   "outputs": [],
   "source": [
    "nano67.milage"
   ]
  },
  {
   "cell_type": "code",
   "execution_count": null,
   "id": "0beb56e4",
   "metadata": {},
   "outputs": [],
   "source": [
    "class car:\n",
    "    def __init__(a,m, y,ma,mo):\n",
    "        a.milage =m\n",
    "        a.year = y\n",
    "        a.make = ma\n",
    "        a.model = mo"
   ]
  },
  {
   "cell_type": "code",
   "execution_count": null,
   "id": "6cafac14",
   "metadata": {},
   "outputs": [],
   "source": [
    "nano67.milage"
   ]
  },
  {
   "cell_type": "code",
   "execution_count": null,
   "id": "73e6ceb6",
   "metadata": {},
   "outputs": [],
   "source": [
    "nano67.m             # wrong"
   ]
  },
  {
   "cell_type": "code",
   "execution_count": null,
   "id": "3ede54bd",
   "metadata": {},
   "outputs": [],
   "source": [
    "class car:\n",
    "    def __init__(a,m, y,ma,mo):\n",
    "        a.milage =m\n",
    "        a.year = y\n",
    "        a.make = ma\n",
    "        a.model = mo\n",
    "    def age(b,current_year):\n",
    "            return current_year  - b.year"
   ]
  },
  {
   "cell_type": "code",
   "execution_count": null,
   "id": "6392fc71",
   "metadata": {},
   "outputs": [],
   "source": [
    "nano67 =  car(20,2020,3651612,\"2472hwbhw\")"
   ]
  },
  {
   "cell_type": "code",
   "execution_count": null,
   "id": "0f96a685",
   "metadata": {},
   "outputs": [],
   "source": [
    "nano67.milage"
   ]
  },
  {
   "cell_type": "code",
   "execution_count": null,
   "id": "417ef28c",
   "metadata": {},
   "outputs": [],
   "source": [
    "nano67.age(2021)"
   ]
  },
  {
   "cell_type": "code",
   "execution_count": null,
   "id": "6d17f6f0",
   "metadata": {},
   "outputs": [],
   "source": [
    "class car:\n",
    "    def __init__(a,m, y,ma,mo):\n",
    "        a.milage =m\n",
    "        a.year = y\n",
    "        a.make = ma\n",
    "        a.model = mo\n",
    "    def age(self,current_year):\n",
    "        return current_year  - self.year\n",
    "    def milage1(self):\n",
    "        print(\"print a milage of car\",self.milage)\n",
    "        return self.milage"
   ]
  },
  {
   "cell_type": "code",
   "execution_count": null,
   "id": "d90be608",
   "metadata": {},
   "outputs": [],
   "source": [
    "nano67 =  car(20,2020,3651612,\"2472hwbhw\")"
   ]
  },
  {
   "cell_type": "code",
   "execution_count": null,
   "id": "d59a47a6",
   "metadata": {},
   "outputs": [],
   "source": [
    "nano67.milage1()"
   ]
  },
  {
   "cell_type": "code",
   "execution_count": null,
   "id": "fe94dbd9",
   "metadata": {},
   "outputs": [],
   "source": [
    "nano67.milage1()"
   ]
  },
  {
   "cell_type": "code",
   "execution_count": null,
   "id": "1558383a",
   "metadata": {},
   "outputs": [],
   "source": [
    "nano67.age(2021)"
   ]
  },
  {
   "cell_type": "code",
   "execution_count": null,
   "id": "1f58e501",
   "metadata": {},
   "outputs": [],
   "source": [
    "nano67"
   ]
  },
  {
   "cell_type": "code",
   "execution_count": null,
   "id": "eafd97ad",
   "metadata": {},
   "outputs": [],
   "source": [
    "class car:\n",
    "    def __init__(a,m, y,ma,mo):\n",
    "        a.milage =m\n",
    "        a.year = y\n",
    "        a.make = ma\n",
    "        a.model = mo\n",
    "    def age(self,current_year):\n",
    "        return current_year  - self.year\n",
    "    def milage1(self):\n",
    "        print(\"print a milage of car\",self.milage)\n",
    "        return self.milage\n",
    "    def __str__(c):\n",
    "        return \"this is my car class I have created\""
   ]
  },
  {
   "cell_type": "code",
   "execution_count": null,
   "id": "7f4a9068",
   "metadata": {},
   "outputs": [],
   "source": [
    "nano67 =  car(20,2020,3651612,\"2472hwbhw\")"
   ]
  },
  {
   "cell_type": "code",
   "execution_count": null,
   "id": "652e8807",
   "metadata": {},
   "outputs": [],
   "source": [
    "nano67.milage1()"
   ]
  },
  {
   "cell_type": "code",
   "execution_count": null,
   "id": "36b8e606",
   "metadata": {},
   "outputs": [],
   "source": [
    "nano67.age(2021)"
   ]
  },
  {
   "cell_type": "code",
   "execution_count": null,
   "id": "38286c01",
   "metadata": {},
   "outputs": [],
   "source": [
    "print(nano67)"
   ]
  },
  {
   "cell_type": "code",
   "execution_count": null,
   "id": "e49cb1d9",
   "metadata": {},
   "outputs": [],
   "source": [
    "class student:\n",
    "    def __init__(self,name,rollno,joining_date,current_topic):\n",
    "        self.name = name\n",
    "        self.rollno = rollno\n",
    "        self.joining_date = joining_date\n",
    "        self.current_topic  =current_topic\n",
    "    def crt_topic(self):\n",
    "        print(\"current topic discussed in my class is \",self.current_topic)\n",
    "    def str_rollno(self):\n",
    "        if type(self.rollno) == str:\n",
    "            print(\"do nothing\")\n",
    "        else:\n",
    "            return str(self.rollno)\n",
    "    def duration(self,current_date):\n",
    "        print(\"duration of student in my class is\",current_date-self.joining_date)\n",
    "    def __str__(self):\n",
    "        return \"this is studnet class where they can try to inpit  here there data\""
   ]
  },
  {
   "cell_type": "code",
   "execution_count": null,
   "id": "85754839",
   "metadata": {},
   "outputs": [],
   "source": [
    "raj = student(\"raj\",327632,2020,\"oops\")"
   ]
  },
  {
   "cell_type": "code",
   "execution_count": null,
   "id": "85f5bfd6",
   "metadata": {},
   "outputs": [],
   "source": [
    "raj.duration(2021)"
   ]
  },
  {
   "cell_type": "code",
   "execution_count": null,
   "id": "4a99b5bd",
   "metadata": {},
   "outputs": [],
   "source": [
    "raj.str_rollno()"
   ]
  },
  {
   "cell_type": "code",
   "execution_count": null,
   "id": "c8e73724",
   "metadata": {},
   "outputs": [],
   "source": [
    "print(raj)"
   ]
  },
  {
   "cell_type": "code",
   "execution_count": null,
   "id": "1de82d8a",
   "metadata": {},
   "outputs": [],
   "source": [
    "swetanshu = student(\"swetanshu\",\"hbc\",32563,\"ds\")"
   ]
  },
  {
   "cell_type": "code",
   "execution_count": null,
   "id": "8f42d52a",
   "metadata": {},
   "outputs": [],
   "source": [
    "print(swetanshu)"
   ]
  },
  {
   "cell_type": "code",
   "execution_count": null,
   "id": "2ab095f6",
   "metadata": {},
   "outputs": [],
   "source": [
    "pawan = student([\"naveen\",\"jay\",\"himashu\",\"prakash\"],[332,783,83,7389],2021,\"ds\")"
   ]
  },
  {
   "cell_type": "code",
   "execution_count": null,
   "id": "11f0220e",
   "metadata": {},
   "outputs": [],
   "source": [
    "class student:\n",
    "    def __init__(self,name,rollno,joining_date,current_topic):\n",
    "        self.name = name\n",
    "        self.rollno = rollno\n",
    "        self.joining_date = joining_date\n",
    "        self.current_topic  =current_topic\n",
    "    \n",
    "    \n",
    "    def crt_topic(self):\n",
    "        print(\"current topic discussed in my class is \",self.current_topic)\n",
    "    \n",
    "    \n",
    "    def str_rollno(self):\n",
    "        \n",
    "        try:\n",
    "                if type(self.rollno) == str:\n",
    "                    print(\"do nothing\")\n",
    "                else:\n",
    "                    return str(self.rollno)\n",
    "        \n",
    "        except Exception as e:\n",
    "            print(\"this is my error message\",e)\n",
    "    \n",
    "    \n",
    "    def duration(self,current_date):\n",
    "        print(\"duration of student in my class is\",current_date-self.joining_date)\n",
    "    \n",
    "    \n",
    "    def __str__(self):\n",
    "        return \"this is studnet class where they can try to inpit  here there data\""
   ]
  },
  {
   "cell_type": "code",
   "execution_count": null,
   "id": "5711a77b",
   "metadata": {},
   "outputs": [],
   "source": [
    "class student:\n",
    "    def __init__(self,name,rollno,joining_date,current_topic):\n",
    "        self.name = name\n",
    "        self.rollno = rollno\n",
    "        self.joining_date = joining_date\n",
    "        self.current_topic  =current_topic\n",
    "    \n",
    "    \n",
    "    def name_Parsing(self):\n",
    "    \n",
    "        if type(self.name)==list:\n",
    "            \n",
    "            for i in self.name:\n",
    "                print(\"name of the student\",i)\n",
    "        \n",
    "        else:       \n",
    "            print(\"name of the student si \",i)\n",
    "    \n",
    "    \n",
    "    def crt_topic(self):\n",
    "        \n",
    "        print(\"current topic discussed in my class is \",self.current_topic)\n",
    "    \n",
    "    \n",
    "    def str_rollno(self):\n",
    "        \n",
    "        try:\n",
    "                if type(self.rollno) == str:\n",
    "                    print(\"do nothing\")\n",
    "                else:\n",
    "                    return str(self.rollno)\n",
    "        \n",
    "        except Exception as e:\n",
    "            print(\"this is my error message\",e)\n",
    "    \n",
    "    \n",
    "    def duration(self,current_date):\n",
    "        print(\"duration of student in my class is\",current_date-self.joining_date)\n",
    "    \n",
    "    \n",
    "    def __str__(self):\n",
    "        return \"this is studnet class where they can try to inpit  here there data\""
   ]
  },
  {
   "cell_type": "code",
   "execution_count": null,
   "id": "dba3971b",
   "metadata": {},
   "outputs": [],
   "source": [
    "pawan = student([\"naveen\",\"jay\",\"himashu\",\"prakash\"],[332,783,83,7389],2021,\"ds\")"
   ]
  },
  {
   "cell_type": "code",
   "execution_count": null,
   "id": "77daec8f",
   "metadata": {},
   "outputs": [],
   "source": [
    "pawan.name_Parsing()"
   ]
  },
  {
   "cell_type": "code",
   "execution_count": null,
   "id": "768eea3a",
   "metadata": {},
   "outputs": [],
   "source": [
    "print(pawan)"
   ]
  },
  {
   "cell_type": "markdown",
   "id": "8f0e23a6",
   "metadata": {},
   "source": [
    "# Important"
   ]
  },
  {
   "cell_type": "code",
   "execution_count": null,
   "id": "3306839e",
   "metadata": {},
   "outputs": [],
   "source": [
    "#Example1:\n",
    "class Car:\n",
    "    def __init__(self, color, brand): #local Variable\n",
    "        #self.color = color    #class Variable\n",
    "        #self.brand = brand    #class Variable\n",
    "        pass\n",
    "    def owner_details(self, name):\n",
    "        print(self.color)\n",
    "audiQ4 = Car(\"black\", \"Audi\")"
   ]
  },
  {
   "cell_type": "code",
   "execution_count": null,
   "id": "34db87b5",
   "metadata": {},
   "outputs": [],
   "source": [
    "audiQ4.owner_details(\"Raj\")   #will throw error"
   ]
  },
  {
   "cell_type": "code",
   "execution_count": null,
   "id": "8d86686e",
   "metadata": {},
   "outputs": [],
   "source": [
    "#  first\n",
    "##   def __init__(self,color,brand)  is a local variable  as we  have use hashtag in----- self.color---- and  ------self.brand----\n",
    "#    which shows that its scope is only upto def __init__() so by the conncept of local variable we can say that it is local variable\n",
    "# second\n",
    "# we have removed hashtag  from "
   ]
  },
  {
   "cell_type": "code",
   "execution_count": null,
   "id": "ba3f5683",
   "metadata": {},
   "outputs": [],
   "source": [
    "#Example1:\n",
    "class Car:\n",
    "    def __init__(self, color, brand): #local Variable\n",
    "        self.color = color    #class Variable\n",
    "        self.brand = brand    #class Variable\n",
    "        pass\n",
    "    def owner_details(self, name):\n",
    "        print(self.color)\n",
    "audiQ4 = Car(\"black\", \"Audi\")"
   ]
  },
  {
   "cell_type": "code",
   "execution_count": null,
   "id": "aea68edb",
   "metadata": {},
   "outputs": [],
   "source": [
    "# second\n",
    "# we have removed hashtag  from "
   ]
  },
  {
   "cell_type": "code",
   "execution_count": null,
   "id": "2e341935",
   "metadata": {},
   "outputs": [],
   "source": [
    "audiQ4.owner_details(\"Raj\")   #will throw error"
   ]
  },
  {
   "cell_type": "code",
   "execution_count": null,
   "id": "5c83d922",
   "metadata": {},
   "outputs": [],
   "source": [
    "#Example2:\n",
    "class Car:\n",
    "    def __init__(self, color, brand): #local Variable\n",
    "        self.color = color    #class Variable\n",
    "        #self.brand = brand    #class Variable\n",
    "    \n",
    "    def owner_details(self, name):\n",
    "        print(self.color)\n",
    "audiQ4 = Car(\"black\", \"Audi\")"
   ]
  },
  {
   "cell_type": "code",
   "execution_count": null,
   "id": "6969e374",
   "metadata": {},
   "outputs": [],
   "source": [
    "audiQ4.owner_details(\"Raj\")"
   ]
  },
  {
   "cell_type": "code",
   "execution_count": null,
   "id": "9e7e4c5c",
   "metadata": {},
   "outputs": [],
   "source": [
    "audiQ4.color"
   ]
  },
  {
   "cell_type": "markdown",
   "id": "3f6453d3",
   "metadata": {},
   "source": [
    "# class/static variable"
   ]
  },
  {
   "cell_type": "code",
   "execution_count": null,
   "id": "02cbe9d9",
   "metadata": {},
   "outputs": [],
   "source": [
    "class Car:\n",
    "    def __init__(self, a, b): #local Variable\n",
    "        self.color = a   #class Variable\n",
    "        self.brand = b  #class Variable\n",
    "    \n",
    "    def owner_details(self, name):\n",
    "        print(self.color)\n",
    "audiQ4 = Car(\"black\", \"Audi\")"
   ]
  },
  {
   "cell_type": "code",
   "execution_count": null,
   "id": "6bc2ae2a",
   "metadata": {},
   "outputs": [],
   "source": [
    "# class variable are the variable whose single ccopy is available to all instances of the class\n",
    "class Mobile:\n",
    "    fp = \"Yes\"                 # it is class variable\n",
    "    def __init__(self):\n",
    "        self.model=  \"realmeX\"\n",
    "    def show_model(self):\n",
    "        print(self.model)\n",
    "realme = Mobile()        "
   ]
  },
  {
   "cell_type": "code",
   "execution_count": null,
   "id": "28a5becd",
   "metadata": {},
   "outputs": [],
   "source": [
    "### how to access class variable\n",
    "#with class method --to access class variable we need class method with cls as first parameter then we can access class variable using cls.variable_name\n",
    "class Mobile:\n",
    "    fp = \"Yes\"                 # it is class variable\n",
    "    def __init__(self):\n",
    "    \n",
    "        self.model=  \"realmeX\"        # instance variable\n",
    "    \n",
    "    def show_model(self):             # instance method\n",
    "        \n",
    "        print(self.model)              # accessing instance variable\n",
    "    \n",
    "    @classmethod      #  decorator\n",
    "    \n",
    "    def is_fp(cls):                       #  class method\n",
    "        \n",
    "        cls.fp                              #  accessing class variable inside class method\n",
    "        \n",
    "realme = Mobile()\n",
    "realme.show_model()\n",
    "Mobile.is_fp()"
   ]
  },
  {
   "cell_type": "code",
   "execution_count": null,
   "id": "2e0f5872",
   "metadata": {},
   "outputs": [],
   "source": [
    "#  how to access class variable outside class\n",
    "#  we can access variable using -------Classname.variable_name\n",
    "class Mobile:\n",
    "    fp = \"yes\"           # class variable\n",
    "    @classmethod           \n",
    "    def show(cls):       # class method\n",
    "        cls.fp           # Accessing class variable inside class method\n",
    "realme = Mobile()\n",
    "Mobile.fp               #  accesing class variable outside class "
   ]
  },
  {
   "cell_type": "code",
   "execution_count": null,
   "id": "5d4c35fe",
   "metadata": {},
   "outputs": [],
   "source": [
    "class Mobile:\n",
    "    fp = \"yes\"           # class variable\n",
    "    @classmethod           \n",
    "    def show(cls):       # class method\n",
    "        cls.fp           # Accessing class variable inside class method\n",
    "realme = Mobile()\n",
    "redmi = Mobile()\n",
    "geek = Mobile()\n",
    "print(Mobile.fp)\n",
    "#new concept --------if we will change fp = \"yes\"  to some other value, it will apply to all the realme ,redmi,geek or all the instance/objects  of class mobile,i,e,\n",
    "#  if we modify the copy of class variable in an object, it will effect all the copies in other object.\n",
    "print(Mobile.__dict__)         #   it will return dictionary and it shows that what class variables are made"
   ]
  },
  {
   "cell_type": "code",
   "execution_count": null,
   "id": "a1922b57",
   "metadata": {},
   "outputs": [],
   "source": [
    "class Mobile:\n",
    "    fp = \"yes\"    #  class variable\n",
    "    @classmethod\n",
    "    def is_fp(cls):\n",
    "        print(cls.fp)      # inside class \n",
    "realme = Mobile()\n",
    "Mobile.fp                   #  we are accessing the value outside the class\n",
    "Mobile.fp = \"no\"            #  we can change the value of class  variable by using equal to operator\n",
    "#  now how to print inside class \n",
    "#  first write the classname and then dot and then class method name\n",
    "Mobile.is_fp()"
   ]
  },
  {
   "cell_type": "markdown",
   "id": "ee55e2cf",
   "metadata": {},
   "source": [
    "#  some new concepts of class"
   ]
  },
  {
   "cell_type": "markdown",
   "id": "1c39c449",
   "metadata": {},
   "source": [
    "##   how to call the string written in the __str__(c)"
   ]
  },
  {
   "cell_type": "code",
   "execution_count": null,
   "id": "781ed38c",
   "metadata": {},
   "outputs": [],
   "source": [
    "class car:\n",
    "    def __init__(a,m, y,ma,mo):\n",
    "        a.milage =m\n",
    "        a.year = y\n",
    "        a.make = ma\n",
    "        a.model = mo\n",
    "    def age(self,current_year):\n",
    "        return current_year  - self.year\n",
    "    def milage1(self):\n",
    "        print(\"print a milage of car\",self.milage)\n",
    "        return self.milage\n",
    "    def __str__(c):\n",
    "        return \"this is my car class I have created\""
   ]
  },
  {
   "cell_type": "code",
   "execution_count": null,
   "id": "170c9548",
   "metadata": {},
   "outputs": [],
   "source": [
    "#    steps\n",
    "# 1.   write first the class and fill the details as above  (it is just an example)  and then\n",
    "# write the __str__(x)    ,,,,,,,  remember  at the place of   \"str\" must write \"str\"  and also remember to give\n",
    "# some character in place of  x otherwise the string or statement you want to print will not be printed\n",
    "#2. Now write as object name = class()  which you created  then use --------- print(object name)---------- to print the \n",
    "#string under  __str__(x)"
   ]
  },
  {
   "cell_type": "markdown",
   "id": "1af25d87",
   "metadata": {},
   "source": [
    "#  instance variables---  "
   ]
  },
  {
   "cell_type": "code",
   "execution_count": null,
   "id": "6ec81ad6",
   "metadata": {},
   "outputs": [],
   "source": [
    "class car:\n",
    "    def __init__(a,m, y,ma,mo):\n",
    "        a.milage =m\n",
    "        a.year = y\n",
    "        a.make = ma\n",
    "        a.model = mo\n",
    "    def age(self,current_year):\n",
    "        return current_year  - self.year\n",
    "    def milage1(self):\n",
    "        print(\"print a milage of car\",self.milage)\n",
    "        return self.milage\n",
    "    def __str__(c):\n",
    "        return \"this is my car class I have created\""
   ]
  },
  {
   "cell_type": "code",
   "execution_count": null,
   "id": "cdde9a4f",
   "metadata": {},
   "outputs": [],
   "source": [
    "fortuner = car(5,6,7,8)       # fortuner is a instance variable of car class\n",
    "mercedes = car(1,2,3,4)       #   mercedes is a instance variable of car class"
   ]
  },
  {
   "cell_type": "code",
   "execution_count": null,
   "id": "66dea177",
   "metadata": {},
   "outputs": [],
   "source": [
    "# class\n",
    "# object\n",
    "# inheritance\n",
    "# Encapsulation\n",
    "# Abstraction\n",
    "# polymorphism ----overriding and overloading"
   ]
  }
 ],
 "metadata": {
  "kernelspec": {
   "display_name": "Python 3 (ipykernel)",
   "language": "python",
   "name": "python3"
  },
  "language_info": {
   "codemirror_mode": {
    "name": "ipython",
    "version": 3
   },
   "file_extension": ".py",
   "mimetype": "text/x-python",
   "name": "python",
   "nbconvert_exporter": "python",
   "pygments_lexer": "ipython3",
   "version": "3.9.12"
  }
 },
 "nbformat": 4,
 "nbformat_minor": 5
}
